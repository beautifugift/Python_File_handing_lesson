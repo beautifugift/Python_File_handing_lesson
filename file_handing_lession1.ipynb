{
  "nbformat": 4,
  "nbformat_minor": 0,
  "metadata": {
    "colab": {
      "provenance": []
    },
    "kernelspec": {
      "name": "python3",
      "display_name": "Python 3"
    },
    "language_info": {
      "name": "python"
    }
  },
  "cells": [
    {
      "cell_type": "markdown",
      "source": [
        "#What is Python File Handling"
      ],
      "metadata": {
        "id": "LqLV3Lj79hMc"
      }
    },
    {
      "cell_type": "markdown",
      "source": [
        "Python file handling refers to the process of working with files, including creating, reading, updating, and deleting them. Python provides several built-in functions to handle these operations effectively.\n",
        "\n",
        "The main file handling operations include:\n",
        "\n",
        "Opening a File: Files can be opened using the open() function. It takes two parameters: the file name and the mode in which the file needs to be opened. Common modes include:\n",
        "\n",
        "'r': Read (default mode). Opens the file for reading; an error occurs if the file does not exist.\n",
        "\n",
        "'w': Write. Opens the file for writing; creates a new file if it doesn't exist or truncates the file if it exists.\n",
        "\n",
        "'a': Append. Opens the file for appending; creates the file if it doesn't exist.\n",
        "\n",
        "'b': Binary mode, which can be used with other modes (e.g., 'rb', 'wb')."
      ],
      "metadata": {
        "id": "Sc4kj6VguD0d"
      }
    },
    {
      "cell_type": "code",
      "source": [
        "#opening the content\n",
        "file = open(\"/content/Finance&AI.rpythonfile.txt\", 'r')"
      ],
      "metadata": {
        "id": "qw6Uf-kbuEvD"
      },
      "execution_count": 1,
      "outputs": []
    },
    {
      "cell_type": "code",
      "source": [
        "#reading the content\n",
        "file.read()"
      ],
      "metadata": {
        "colab": {
          "base_uri": "https://localhost:8080/",
          "height": 191
        },
        "id": "RL8xjThevo91",
        "outputId": "21c192cb-8d1f-4765-e21e-e612f71fff6f"
      },
      "execution_count": 2,
      "outputs": [
        {
          "output_type": "execute_result",
          "data": {
            "text/plain": [
              "'In the world of finance, Artificial Intelligence (AI) is revolutionizing the way businesses operate and make decisions. AI-powered algorithms are transforming financial services, from trading and risk management to fraud detection and customer service. \\n\\nIn trading, AI models analyze vast amounts of data in real-time, identifying patterns and trends that human traders might miss. This enables faster and more accurate investment decisions. In risk management, AI tools can assess potential risks by analyzing market conditions, historical data, and economic indicators, helping financial institutions mitigate potential losses.\\n\\nFraud detection is another area where AI excels. Machine learning algorithms can detect unusual patterns in transactions, flagging potential fraud before it escalates. Additionally, AI-driven chatbots are improving customer service by providing instant responses to inquiries, reducing the need for human agents.\\n\\nAs AI continues to evolve, its integration into finance is set to enhance efficiency, reduce costs, and enable smarter, data-driven decision-making. However, careful regulation and ethical considerations are necessary to ensure its responsible use.\\n'"
            ],
            "application/vnd.google.colaboratory.intrinsic+json": {
              "type": "string"
            }
          },
          "metadata": {},
          "execution_count": 2
        }
      ]
    },
    {
      "cell_type": "code",
      "source": [
        "from google.colab import files"
      ],
      "metadata": {
        "id": "MvMwSGCPwc4J"
      },
      "execution_count": 3,
      "outputs": []
    },
    {
      "cell_type": "code",
      "source": [
        "#This will prompt you to upload a file\n",
        "uploaded = files.upload()"
      ],
      "metadata": {
        "colab": {
          "base_uri": "https://localhost:8080/",
          "height": 73
        },
        "id": "wSKaMSsfv3QA",
        "outputId": "7b55abc2-0242-4e23-a9a4-42e7706a7a6c"
      },
      "execution_count": 4,
      "outputs": [
        {
          "output_type": "display_data",
          "data": {
            "text/plain": [
              "<IPython.core.display.HTML object>"
            ],
            "text/html": [
              "\n",
              "     <input type=\"file\" id=\"files-e9608402-0602-4b7d-8615-5f2a902def89\" name=\"files[]\" multiple disabled\n",
              "        style=\"border:none\" />\n",
              "     <output id=\"result-e9608402-0602-4b7d-8615-5f2a902def89\">\n",
              "      Upload widget is only available when the cell has been executed in the\n",
              "      current browser session. Please rerun this cell to enable.\n",
              "      </output>\n",
              "      <script>// Copyright 2017 Google LLC\n",
              "//\n",
              "// Licensed under the Apache License, Version 2.0 (the \"License\");\n",
              "// you may not use this file except in compliance with the License.\n",
              "// You may obtain a copy of the License at\n",
              "//\n",
              "//      http://www.apache.org/licenses/LICENSE-2.0\n",
              "//\n",
              "// Unless required by applicable law or agreed to in writing, software\n",
              "// distributed under the License is distributed on an \"AS IS\" BASIS,\n",
              "// WITHOUT WARRANTIES OR CONDITIONS OF ANY KIND, either express or implied.\n",
              "// See the License for the specific language governing permissions and\n",
              "// limitations under the License.\n",
              "\n",
              "/**\n",
              " * @fileoverview Helpers for google.colab Python module.\n",
              " */\n",
              "(function(scope) {\n",
              "function span(text, styleAttributes = {}) {\n",
              "  const element = document.createElement('span');\n",
              "  element.textContent = text;\n",
              "  for (const key of Object.keys(styleAttributes)) {\n",
              "    element.style[key] = styleAttributes[key];\n",
              "  }\n",
              "  return element;\n",
              "}\n",
              "\n",
              "// Max number of bytes which will be uploaded at a time.\n",
              "const MAX_PAYLOAD_SIZE = 100 * 1024;\n",
              "\n",
              "function _uploadFiles(inputId, outputId) {\n",
              "  const steps = uploadFilesStep(inputId, outputId);\n",
              "  const outputElement = document.getElementById(outputId);\n",
              "  // Cache steps on the outputElement to make it available for the next call\n",
              "  // to uploadFilesContinue from Python.\n",
              "  outputElement.steps = steps;\n",
              "\n",
              "  return _uploadFilesContinue(outputId);\n",
              "}\n",
              "\n",
              "// This is roughly an async generator (not supported in the browser yet),\n",
              "// where there are multiple asynchronous steps and the Python side is going\n",
              "// to poll for completion of each step.\n",
              "// This uses a Promise to block the python side on completion of each step,\n",
              "// then passes the result of the previous step as the input to the next step.\n",
              "function _uploadFilesContinue(outputId) {\n",
              "  const outputElement = document.getElementById(outputId);\n",
              "  const steps = outputElement.steps;\n",
              "\n",
              "  const next = steps.next(outputElement.lastPromiseValue);\n",
              "  return Promise.resolve(next.value.promise).then((value) => {\n",
              "    // Cache the last promise value to make it available to the next\n",
              "    // step of the generator.\n",
              "    outputElement.lastPromiseValue = value;\n",
              "    return next.value.response;\n",
              "  });\n",
              "}\n",
              "\n",
              "/**\n",
              " * Generator function which is called between each async step of the upload\n",
              " * process.\n",
              " * @param {string} inputId Element ID of the input file picker element.\n",
              " * @param {string} outputId Element ID of the output display.\n",
              " * @return {!Iterable<!Object>} Iterable of next steps.\n",
              " */\n",
              "function* uploadFilesStep(inputId, outputId) {\n",
              "  const inputElement = document.getElementById(inputId);\n",
              "  inputElement.disabled = false;\n",
              "\n",
              "  const outputElement = document.getElementById(outputId);\n",
              "  outputElement.innerHTML = '';\n",
              "\n",
              "  const pickedPromise = new Promise((resolve) => {\n",
              "    inputElement.addEventListener('change', (e) => {\n",
              "      resolve(e.target.files);\n",
              "    });\n",
              "  });\n",
              "\n",
              "  const cancel = document.createElement('button');\n",
              "  inputElement.parentElement.appendChild(cancel);\n",
              "  cancel.textContent = 'Cancel upload';\n",
              "  const cancelPromise = new Promise((resolve) => {\n",
              "    cancel.onclick = () => {\n",
              "      resolve(null);\n",
              "    };\n",
              "  });\n",
              "\n",
              "  // Wait for the user to pick the files.\n",
              "  const files = yield {\n",
              "    promise: Promise.race([pickedPromise, cancelPromise]),\n",
              "    response: {\n",
              "      action: 'starting',\n",
              "    }\n",
              "  };\n",
              "\n",
              "  cancel.remove();\n",
              "\n",
              "  // Disable the input element since further picks are not allowed.\n",
              "  inputElement.disabled = true;\n",
              "\n",
              "  if (!files) {\n",
              "    return {\n",
              "      response: {\n",
              "        action: 'complete',\n",
              "      }\n",
              "    };\n",
              "  }\n",
              "\n",
              "  for (const file of files) {\n",
              "    const li = document.createElement('li');\n",
              "    li.append(span(file.name, {fontWeight: 'bold'}));\n",
              "    li.append(span(\n",
              "        `(${file.type || 'n/a'}) - ${file.size} bytes, ` +\n",
              "        `last modified: ${\n",
              "            file.lastModifiedDate ? file.lastModifiedDate.toLocaleDateString() :\n",
              "                                    'n/a'} - `));\n",
              "    const percent = span('0% done');\n",
              "    li.appendChild(percent);\n",
              "\n",
              "    outputElement.appendChild(li);\n",
              "\n",
              "    const fileDataPromise = new Promise((resolve) => {\n",
              "      const reader = new FileReader();\n",
              "      reader.onload = (e) => {\n",
              "        resolve(e.target.result);\n",
              "      };\n",
              "      reader.readAsArrayBuffer(file);\n",
              "    });\n",
              "    // Wait for the data to be ready.\n",
              "    let fileData = yield {\n",
              "      promise: fileDataPromise,\n",
              "      response: {\n",
              "        action: 'continue',\n",
              "      }\n",
              "    };\n",
              "\n",
              "    // Use a chunked sending to avoid message size limits. See b/62115660.\n",
              "    let position = 0;\n",
              "    do {\n",
              "      const length = Math.min(fileData.byteLength - position, MAX_PAYLOAD_SIZE);\n",
              "      const chunk = new Uint8Array(fileData, position, length);\n",
              "      position += length;\n",
              "\n",
              "      const base64 = btoa(String.fromCharCode.apply(null, chunk));\n",
              "      yield {\n",
              "        response: {\n",
              "          action: 'append',\n",
              "          file: file.name,\n",
              "          data: base64,\n",
              "        },\n",
              "      };\n",
              "\n",
              "      let percentDone = fileData.byteLength === 0 ?\n",
              "          100 :\n",
              "          Math.round((position / fileData.byteLength) * 100);\n",
              "      percent.textContent = `${percentDone}% done`;\n",
              "\n",
              "    } while (position < fileData.byteLength);\n",
              "  }\n",
              "\n",
              "  // All done.\n",
              "  yield {\n",
              "    response: {\n",
              "      action: 'complete',\n",
              "    }\n",
              "  };\n",
              "}\n",
              "\n",
              "scope.google = scope.google || {};\n",
              "scope.google.colab = scope.google.colab || {};\n",
              "scope.google.colab._files = {\n",
              "  _uploadFiles,\n",
              "  _uploadFilesContinue,\n",
              "};\n",
              "})(self);\n",
              "</script> "
            ]
          },
          "metadata": {}
        },
        {
          "output_type": "stream",
          "name": "stdout",
          "text": [
            "Saving Reading_file_python.txt to Reading_file_python.txt\n"
          ]
        }
      ]
    },
    {
      "cell_type": "code",
      "source": [
        "# Step 2: Reading the contents of the file.\n",
        "file_name = '/content/Reading_file_python.txt'\n",
        "\n",
        "with open(file_name, 'r') as file:\n",
        "    names = file.readlines()"
      ],
      "metadata": {
        "id": "pfDLIPYWv4TL"
      },
      "execution_count": 11,
      "outputs": []
    },
    {
      "cell_type": "code",
      "source": [
        "#step 3 : Remove any extra space and newline\n",
        "names = [name.strip() for name in names]\n",
        "print(\"Original contents list:\")\n",
        "print(names)"
      ],
      "metadata": {
        "colab": {
          "base_uri": "https://localhost:8080/"
        },
        "id": "B6Saw3UmyC2X",
        "outputId": "97040012-23c9-446b-e2d5-e9cf05422014"
      },
      "execution_count": 12,
      "outputs": [
        {
          "output_type": "stream",
          "name": "stdout",
          "text": [
            "Original contents list:\n",
            "['Aarav', 'Ananya', 'Rohan', 'Meera', 'Aarav', 'Kabir', 'Lakshmi', 'Ananya', 'Ravi', 'Sneha', 'Vikram', 'Ravi', 'Pooja', 'Rohan', 'Deepika', 'Kabir', 'Lakshmi', 'Manish', 'Sneha', 'Rekha', 'Vikram']\n"
          ]
        }
      ]
    },
    {
      "cell_type": "code",
      "source": [
        "#Step 4: Remove duplicates\n",
        "unique_names = list(set(names))\n",
        "print(\"\\nList after removing duplicates:\")\n",
        "print(unique_names)"
      ],
      "metadata": {
        "colab": {
          "base_uri": "https://localhost:8080/"
        },
        "id": "oj9r-UL10RLN",
        "outputId": "20159045-062f-48c2-d938-e38c7f29441c"
      },
      "execution_count": 15,
      "outputs": [
        {
          "output_type": "stream",
          "name": "stdout",
          "text": [
            "\n",
            "List after removing duplicates:\n",
            "['Rohan', 'Meera', 'Aarav', 'Manish', 'Vikram', 'Kabir', 'Lakshmi', 'Deepika', 'Ananya', 'Ravi', 'Pooja', 'Rekha', 'Sneha']\n"
          ]
        }
      ]
    },
    {
      "cell_type": "code",
      "source": [
        "#Step 5 : Sort the name alphabetically\n",
        "unique_names.sort()"
      ],
      "metadata": {
        "id": "hMGhnxXZ0Rb9"
      },
      "execution_count": 17,
      "outputs": []
    },
    {
      "cell_type": "code",
      "source": [
        "#Display the sorted unique names\n",
        "print(\"\\nSorted Unique Names:\")\n",
        "print(unique_names)"
      ],
      "metadata": {
        "colab": {
          "base_uri": "https://localhost:8080/"
        },
        "id": "sGf6LLSi1LqR",
        "outputId": "337e6337-a4f8-4ac7-92e1-fcba3467a706"
      },
      "execution_count": 18,
      "outputs": [
        {
          "output_type": "stream",
          "name": "stdout",
          "text": [
            "\n",
            "Sorted Unique Names:\n",
            "['Aarav', 'Ananya', 'Deepika', 'Kabir', 'Lakshmi', 'Manish', 'Meera', 'Pooja', 'Ravi', 'Rekha', 'Rohan', 'Sneha', 'Vikram']\n"
          ]
        }
      ]
    },
    {
      "cell_type": "code",
      "source": [
        "#Step 6: Write the unique, sorted names to a new file called 'unique_names.txt\n",
        "\n",
        "with open('unique_names.txt', 'w') as output_file:\n",
        "    for name in unique_names:\n",
        "        output_file.write(name + '\\n')\n"
      ],
      "metadata": {
        "id": "igZk5CV42CiD"
      },
      "execution_count": 19,
      "outputs": []
    },
    {
      "cell_type": "markdown",
      "source": [
        "#How to write a file"
      ],
      "metadata": {
        "id": "vsAVGM8-4Wg8"
      }
    },
    {
      "cell_type": "code",
      "source": [
        "file = open('greeting.txt', 'w')\n",
        "file.write('Hello, World!')"
      ],
      "metadata": {
        "colab": {
          "base_uri": "https://localhost:8080/"
        },
        "id": "l7jaTN2A24nJ",
        "outputId": "f37b9e34-1d56-4c46-91ef-dad927341168"
      },
      "execution_count": 21,
      "outputs": [
        {
          "output_type": "execute_result",
          "data": {
            "text/plain": [
              "13"
            ]
          },
          "metadata": {},
          "execution_count": 21
        }
      ]
    },
    {
      "cell_type": "code",
      "source": [
        "#Appending to a file\n",
        "file = open('greeting.txt', 'a')\n",
        "file.write(\"Peace to the world.\")"
      ],
      "metadata": {
        "colab": {
          "base_uri": "https://localhost:8080/"
        },
        "id": "kt5arzM35FQO",
        "outputId": "20c7a176-959d-4c39-e63a-76fd6c80952f"
      },
      "execution_count": 22,
      "outputs": [
        {
          "output_type": "execute_result",
          "data": {
            "text/plain": [
              "19"
            ]
          },
          "metadata": {},
          "execution_count": 22
        }
      ]
    },
    {
      "cell_type": "code",
      "source": [
        "#Closing a file\n",
        "file = open('greeting.txt', 'r')\n",
        "print(file.read())\n",
        "file.close()"
      ],
      "metadata": {
        "colab": {
          "base_uri": "https://localhost:8080/"
        },
        "id": "JdTuJKwe5_cU",
        "outputId": "f0f893f7-eafe-4a82-a95e-45e972c0ab9e"
      },
      "execution_count": 25,
      "outputs": [
        {
          "output_type": "stream",
          "name": "stdout",
          "text": [
            "Hello, World! Peace to the world.\n"
          ]
        }
      ]
    },
    {
      "cell_type": "markdown",
      "source": [
        "#Assignment: Python File Handling\n",
        "In this assignment, you will learn how to perform various file-handling operations in Python. Follow the steps below to complete the task:\n",
        "\n",
        "1. Create a File:\n",
        "\n",
        "Write 2 different  Python script to create new text files named  and write a few lines of text into it.\n",
        "\n",
        "2. Read the Files:\n",
        "\n",
        "Read the contents and display them on the console.\n",
        "\n",
        "3. Append to the Files:\n",
        "\n",
        "Append a new line of text to the existing file.\n",
        "\n",
        "4. Print the First Line of the File:\n",
        "\n",
        "Print only the first line of the file.\n",
        "\n",
        "5. Delete the File:\n",
        "\n",
        "Write a Python script to delete one of the file.\n",
        ""
      ],
      "metadata": {
        "id": "mapXk7hq8T5r"
      }
    },
    {
      "cell_type": "code",
      "source": [],
      "metadata": {
        "id": "MCYbEZ7T5_oM"
      },
      "execution_count": null,
      "outputs": []
    }
  ]
}